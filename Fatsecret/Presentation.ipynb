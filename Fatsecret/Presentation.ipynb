{
 "cells": [
  {
   "cell_type": "markdown",
   "id": "72f80d4e-c3df-4d35-91e0-29a393bfd93c",
   "metadata": {},
   "source": [
    "### 1)"
   ]
  },
  {
   "cell_type": "code",
   "execution_count": 11,
   "id": "67dc0444-ae2a-4728-a191-5803e787b267",
   "metadata": {},
   "outputs": [],
   "source": [
    "import requests\n",
    "\n",
    "class FatSecretApiClient:\n",
    "    def __init__(self, api_key):\n",
    "        self.api_key = api_key\n",
    "        self.base_url = 'https://platform.fatsecret.com/rest/server.api'\n",
    "\n",
    "    def search_food(self, food_name):\n",
    "        endpoint = f'{self.base_url}?method=foods.search&format=json&search_expression={food_name}&oauth_consumer_key={self.api_key}'\n",
    "        response = requests.get(endpoint)\n",
    "        response.raise_for_status()\n",
    "        result = response.json()\n",
    "        return result\n",
    "\n",
    "    def get_food(self, food_id):\n",
    "        endpoint = f'{self.base_url}?method=food.get&food_id={food_id}&oauth_consumer_key={self.api_key}'\n",
    "        response = requests.get(endpoint)\n",
    "        response.raise_for_status()\n",
    "        result = response.json()\n",
    "        return result"
   ]
  },
  {
   "cell_type": "markdown",
   "id": "c285dc9c-cf72-42f4-8250-2a33e4c59fc9",
   "metadata": {},
   "source": [
    "#### Example"
   ]
  },
  {
   "cell_type": "code",
   "execution_count": 12,
   "id": "8a490561-d1f8-414e-b8b9-1de5be1b2daa",
   "metadata": {},
   "outputs": [
    {
     "name": "stdout",
     "output_type": "stream",
     "text": [
      "No related food\n"
     ]
    }
   ],
   "source": [
    "api_key = '986485f1c42f4ea0b5a98a61d004befc'\n",
    "client = FatSecretApiClient(api_key)\n",
    "search_result = client.search_food('Mushroom')\n",
    "if 'foods' in search_result and search_result['foods']['food']:\n",
    "    food_id = search_result['foods']['food'][0]['food_id']\n",
    "    food_details = client.get_food(food_id)\n",
    "else:\n",
    "    print('No related food')"
   ]
  },
  {
   "cell_type": "markdown",
   "id": "79c8adb1-c2c2-4086-a235-d0d191943edb",
   "metadata": {},
   "source": [
    "### 2) "
   ]
  },
  {
   "cell_type": "code",
   "execution_count": 13,
   "id": "937ca358-a717-41b6-ac99-77ad81c18fd6",
   "metadata": {},
   "outputs": [],
   "source": [
    "import requests\n",
    "from requests_oauthlib import OAuth1\n",
    "\n",
    "class FatSecretApiClient:\n",
    "    def __init__(self, api_key, api_secret):\n",
    "        self.api_key = api_key\n",
    "        self.api_secret = api_secret\n",
    "        self.base_url = 'https://platform.fatsecret.com/rest/server.api'\n",
    "        self.oauth = OAuth1(self.api_key, self.api_secret)\n",
    "\n",
    "    def search_food(self, food_name):\n",
    "        endpoint = f'{self.base_url}?method=foods.search&format=json&search_expression={food_name}'\n",
    "        response = requests.get(endpoint, auth=self.oauth)\n",
    "        response.raise_for_status()\n",
    "        result = response.json()\n",
    "        return result\n",
    "\n",
    "    def get_food(self, food_id):\n",
    "        endpoint = f'{self.base_url}?method=food.get&food_id={food_id}'\n",
    "        response = requests.get(endpoint, auth=self.oauth)\n",
    "        response.raise_for_status()\n",
    "        result = response.json()\n",
    "        return result\n",
    "\n",
    "    def get_meal(self, meal_type):\n",
    "        endpoint = f'{self.base_url}?method=meal.get_meals&format=json&meal_type={meal_type}'\n",
    "        response = requests.get(endpoint, auth=self.oauth)\n",
    "        response.raise_for_status()\n",
    "        result = response.json()\n",
    "        return result"
   ]
  },
  {
   "cell_type": "markdown",
   "id": "fc025aed-9d64-4451-9675-4f6c9ffe924e",
   "metadata": {},
   "source": [
    "#### Example"
   ]
  },
  {
   "cell_type": "code",
   "execution_count": 14,
   "id": "eeea3a31-ba12-402e-a8f5-489aad819ed4",
   "metadata": {},
   "outputs": [
    {
     "name": "stdout",
     "output_type": "stream",
     "text": [
      "Breakfast Meals:\n",
      "{'error': {'code': 2, 'message': 'Missing required oauth parameter: oauth_signature_method'}}\n",
      "Lunch Meals:\n",
      "{'error': {'code': 2, 'message': 'Missing required oauth parameter: oauth_signature_method'}}\n",
      "Dinner Meals:\n",
      "{'error': {'code': 2, 'message': 'Missing required oauth parameter: oauth_signature_method'}}\n"
     ]
    }
   ],
   "source": [
    "api_key = '986485f1c42f4ea0b5a98a61d004befc'\n",
    "api_secret = '35d2bd22caf044d2b24f8d6530404526'\n",
    "client = FatSecretApiClient(api_key, api_secret)\n",
    "\n",
    "breakfast_meals = client.get_meal('breakfast')\n",
    "print('Breakfast Meals:')\n",
    "print(breakfast_meals)\n",
    "\n",
    "lunch_meals = client.get_meal('lunch')\n",
    "print('Lunch Meals:')\n",
    "print(lunch_meals)\n",
    "\n",
    "dinner_meals = client.get_meal('dinner')\n",
    "print('Dinner Meals:')\n",
    "print(dinner_meals)"
   ]
  },
  {
   "cell_type": "markdown",
   "id": "61c76b8f-72b3-499d-a161-dc91c8125e96",
   "metadata": {},
   "source": [
    "### 3)"
   ]
  },
  {
   "cell_type": "code",
   "execution_count": 15,
   "id": "4831045b-cfab-4214-8072-5ceb28330166",
   "metadata": {},
   "outputs": [],
   "source": [
    "import requests\n",
    "from requests_oauthlib import OAuth1\n",
    "\n",
    "class FatSecretApiClient:\n",
    "    def __init__(self, api_key, api_secret):\n",
    "        self.api_key = api_key\n",
    "        self.api_secret = api_secret\n",
    "        self.base_url = 'https://platform.fatsecret.com/rest/server.api'\n",
    "        self.oauth = OAuth1(self.api_key, self.api_secret)\n",
    "\n",
    "    def search_food(self, food_name):\n",
    "        endpoint = f'{self.base_url}?method=foods.search&format=json&search_expression={food_name}'\n",
    "        response = requests.get(endpoint, auth=self.oauth)\n",
    "        response.raise_for_status()\n",
    "        result = response.json()\n",
    "        return result\n",
    "\n",
    "    def get_food(self, food_id):\n",
    "        endpoint = f'{self.base_url}?method=food.get&format=json&food_id={food_id}'\n",
    "        response = requests.get(endpoint, auth=self.oauth)\n",
    "        response.raise_for_status()\n",
    "        result = response.json()\n",
    "        return result\n",
    "\n",
    "    def get_meal(self, meal_type):\n",
    "        endpoint = f'{self.base_url}?method=meal.get_meals&format=json&meal_type={meal_type}'\n",
    "        response = requests.get(endpoint, auth=self.oauth)\n",
    "        response.raise_for_status()\n",
    "        result = response.json()\n",
    "        return result"
   ]
  },
  {
   "cell_type": "code",
   "execution_count": 17,
   "id": "5bcf3bb3-0b1a-475e-9859-75ea7f52d9c3",
   "metadata": {},
   "outputs": [],
   "source": [
    "def get_brands_by_letter(self, letter, brand_type='manufacturer', region=None, language=None, format='json'):\n",
    "        endpoint = f'{self.base_url}?method=food_brands.get.v2&starts_with={letter}&brand_type={brand_type}'\n",
    "        \n",
    "        if region:\n",
    "            endpoint += f'&region={region}'\n",
    "        if language:\n",
    "            endpoint += f'&language={language}'\n",
    "        if format:\n",
    "            endpoint += f'&format={format}'\n",
    "\n",
    "        response = self.oauth.get(endpoint)\n",
    "        response.raise_for_status()\n",
    "        result = response.json()\n",
    "        return result"
   ]
  },
  {
   "cell_type": "code",
   "execution_count": 21,
   "id": "cdedc8d6-c9fa-4eb3-abef-9f9e41ce664b",
   "metadata": {},
   "outputs": [],
   "source": [
    "import requests\n",
    "from requests_oauthlib import OAuth1\n",
    "\n",
    "class FatSecretApiClient:\n",
    "    def __init__(self, api_key, api_secret):\n",
    "        self.api_key = api_key\n",
    "        self.api_secret = api_secret\n",
    "        self.base_url = 'https://platform.fatsecret.com/rest/server.api'\n",
    "        self.oauth = OAuth1(self.api_key, self.api_secret)\n",
    "\n",
    "    def get_all_recipe_types(self, format='json', region=None, language=None):\n",
    "        endpoint = f'{self.base_url}?method=recipe_types.get.v2&format={format}'\n",
    "\n",
    "        if region:\n",
    "            endpoint += f'&region={region}'\n",
    "        if language:\n",
    "            endpoint += f'&language={language}'\n",
    "\n",
    "        response = requests.get(endpoint, auth=self.oauth)\n",
    "        response.raise_for_status()\n",
    "        result = response.json()\n",
    "\n",
    "        if 'recipe_types' in result:\n",
    "            return result['recipe_types']['recipe_types']\n",
    "        else:\n",
    "            return None"
   ]
  },
  {
   "cell_type": "code",
   "execution_count": 23,
   "id": "0fdc5e75-65d0-41bf-864d-8da54ee54ea1",
   "metadata": {},
   "outputs": [],
   "source": [
    "import requests\n",
    "from requests_oauthlib import OAuth1\n",
    "\n",
    "class FatSecretApiClient:\n",
    "    def __init__(self, api_key, api_secret):\n",
    "        self.api_key = api_key\n",
    "        self.api_secret = api_secret\n",
    "        self.base_url = 'https://platform.fatsecret.com/rest/server.api'\n",
    "        self.oauth = OAuth1(self.api_key, self.api_secret)\n",
    "\n",
    "    def search_food(self, food_name):\n",
    "        endpoint = f'{self.base_url}?method=foods.search&format=json&search_expression={food_name}'\n",
    "        response = requests.get(endpoint, auth=self.oauth)\n",
    "        response.raise_for_status()\n",
    "        result = response.json()\n",
    "        return result\n",
    "\n",
    "    # Add more API functions as needed\n"
   ]
  },
  {
   "cell_type": "markdown",
   "id": "824ba1e7-d806-4f08-8614-bfdf1e8229d4",
   "metadata": {},
   "source": [
    "#### Example"
   ]
  },
  {
   "cell_type": "code",
   "execution_count": 24,
   "id": "0ead7dc3-9824-4f89-ab60-2be050506d6e",
   "metadata": {},
   "outputs": [
    {
     "name": "stdout",
     "output_type": "stream",
     "text": [
      "{'error': {'code': 2, 'message': 'Missing required oauth parameter: oauth_signature_method'}}\n"
     ]
    }
   ],
   "source": [
    "api_key = '986485f1c42f4ea0b5a98a61d004befc'\n",
    "api_secret = '35d2bd22caf044d2b24f8d6530404526'\n",
    "client = FatSecretApiClient(api_key, api_secret)\n",
    "food_search_result = client.search_food('banana')\n",
    "print(food_search_result)"
   ]
  },
  {
   "cell_type": "markdown",
   "id": "1fb608a5-91ec-463f-9c81-ad1d59477deb",
   "metadata": {},
   "source": [
    "### 4)"
   ]
  },
  {
   "cell_type": "code",
   "execution_count": null,
   "id": "5359abdc-0a33-4ece-b050-dc68f8f132d0",
   "metadata": {},
   "outputs": [],
   "source": [
    "import requests\n",
    "from requests_oauthlib import OAuth1\n",
    "\n",
    "class FatSecretApiClient:\n",
    "    def __init__(self, api_key, api_secret):\n",
    "        self.api_key = api_key\n",
    "        self.api_secret = api_secret\n",
    "        self.base_url = 'https://platform.fatsecret.com/rest/server.api'\n",
    "        self.oauth = OAuth1(self.api_key, self.api_secret)\n",
    "\n",
    "    def search_recipes(self, search_expression, page_number=0, recipe_types=None, recipe_types_matchall=False,\n",
    "                       must_have_images=False, calories_from=None, calories_to=None,\n",
    "                       carb_percentage_from=None, carb_percentage_to=None,\n",
    "                       protein_percentage_from=None, protein_percentage_to=None,\n",
    "                       fat_percentage_from=None, fat_percentage_to=None,\n",
    "                       prep_time_from=None, prep_time_to=None,\n",
    "                       sort_by='newest', format='json', region=None, language=None):\n",
    "        endpoint = f'{self.base_url}?method=recipes.search.v3&format={format}&search_expression={search_expression}&page_number={page_number}&sort_by={sort_by}'\n",
    "\n",
    "        if recipe_types:\n",
    "            endpoint += f'&recipe_types={\",\".join(recipe_types)}'\n",
    "        if recipe_types_matchall:\n",
    "            endpoint += f'&recipe_types_matchall=true'\n",
    "        if must_have_images:\n",
    "            endpoint += f'&must_have_images=true'\n",
    "        if calories_from is not None:\n",
    "            endpoint += f'&calories.from={calories_from}'\n",
    "        if calories_to is not None:\n",
    "            endpoint += f'&calories.to={calories_to}'\n",
    "        # Add more parameters as needed\n",
    "\n",
    "        if region:\n",
    "            endpoint += f'&region={region}'\n",
    "        if language:\n",
    "            endpoint += f'&language={language}'\n",
    "\n",
    "        response = requests.get(endpoint, auth=self.oauth)\n",
    "        response.raise_for_status()\n",
    "        result = response.json()\n",
    "        return result"
   ]
  },
  {
   "cell_type": "markdown",
   "id": "64a05ede-e1b1-4c70-bf94-5dc06608c700",
   "metadata": {},
   "source": [
    "#### Example"
   ]
  },
  {
   "cell_type": "code",
   "execution_count": null,
   "id": "b8a229bb-d910-46cf-8dee-8e776827cda3",
   "metadata": {},
   "outputs": [],
   "source": [
    "api_key = '986485f1c42f4ea0b5a98a61d004befc'\n",
    "api_secret = '35d2bd22caf044d2b24f8d6530404526'\n",
    "\n",
    "# Create an instance of the FatSecretApiClient\n",
    "client = FatSecretApiClient(api_key, api_secret)\n",
    "\n",
    "# Example: Search for recipes with the keyword 'chicken'\n",
    "search_result = client.search_recipes(search_expression='chicken', page_number=0, format='json')\n",
    "print(search_result)"
   ]
  },
  {
   "cell_type": "code",
   "execution_count": null,
   "id": "f9c2a240-7172-43f1-86f2-5473050a5e59",
   "metadata": {},
   "outputs": [],
   "source": []
  }
 ],
 "metadata": {
  "kernelspec": {
   "display_name": "Python 3 (ipykernel)",
   "language": "python",
   "name": "python3"
  },
  "language_info": {
   "codemirror_mode": {
    "name": "ipython",
    "version": 3
   },
   "file_extension": ".py",
   "mimetype": "text/x-python",
   "name": "python",
   "nbconvert_exporter": "python",
   "pygments_lexer": "ipython3",
   "version": "3.11.4"
  }
 },
 "nbformat": 4,
 "nbformat_minor": 5
}
