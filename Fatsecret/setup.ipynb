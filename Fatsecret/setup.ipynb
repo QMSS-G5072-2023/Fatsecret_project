{
 "cells": [
  {
   "cell_type": "code",
   "execution_count": 1,
   "id": "42534b39-d906-4732-b9d9-7af6c1725c1c",
   "metadata": {},
   "outputs": [
    {
     "name": "stdout",
     "output_type": "stream",
     "text": [
      "Writing setup.py\n"
     ]
    }
   ],
   "source": [
    "%%writefile setup.py\n",
    "\n",
    "from setuptools import setup, find_packages\n",
    "\n",
    "setup(\n",
    "    name='Fatsecret',\n",
    "    version='0.1.0',\n",
    "    packages=Fatsecret_packages(),\n",
    "    install_requires=[\n",
    "        'numpy',\n",
    "        'requests',\n",
    "    ],\n",
    "    entry_points={\n",
    "        'console_scripts': [\n",
    "            'Fatsecret = Fatsecret:Python Wrapper',\n",
    "        ],\n",
    "    },\n",
    ")"
   ]
  },
  {
   "cell_type": "code",
   "execution_count": null,
   "id": "81b8fdb7-47d9-4b5e-b6e1-f45baf154a48",
   "metadata": {},
   "outputs": [],
   "source": []
  }
 ],
 "metadata": {
  "kernelspec": {
   "display_name": "Python 3 (ipykernel)",
   "language": "python",
   "name": "python3"
  },
  "language_info": {
   "codemirror_mode": {
    "name": "ipython",
    "version": 3
   },
   "file_extension": ".py",
   "mimetype": "text/x-python",
   "name": "python",
   "nbconvert_exporter": "python",
   "pygments_lexer": "ipython3",
   "version": "3.11.4"
  }
 },
 "nbformat": 4,
 "nbformat_minor": 5
}
